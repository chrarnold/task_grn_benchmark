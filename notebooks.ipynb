{
 "cells": [
  {
   "cell_type": "code",
   "execution_count": 3,
   "id": "2283198e-8490-41e0-9488-9f2dc11573fe",
   "metadata": {
    "execution": {
     "iopub.execute_input": "2024-07-03T12:37:31.656404Z",
     "iopub.status.busy": "2024-07-03T12:37:31.655907Z",
     "iopub.status.idle": "2024-07-03T12:37:31.659081Z",
     "shell.execute_reply": "2024-07-03T12:37:31.658571Z",
     "shell.execute_reply.started": "2024-07-03T12:37:31.656376Z"
    },
    "tags": []
   },
   "outputs": [],
   "source": [
    "!pip install scglue==0.3.2 pyscenic==0.10.1 numpy==1.23.4 scanpy networkx pyarrow cytoolz scikit-misc\n",
    "\n",
    "\n",
    "!conda install -c bioconda bedtools -y\n",
    "!conda install -c pytorch -c nvidia faiss-gpu=1.8.0 -y\n",
    "!conda install pytorch::faiss-gpu\n"
   ]
  },
  {
   "cell_type": "code",
   "execution_count": null,
   "id": "e20aa02e-8cff-49e1-aac8-96929e95249b",
   "metadata": {
    "execution": {
     "iopub.execute_input": "2024-07-03T12:37:31.660452Z",
     "iopub.status.busy": "2024-07-03T12:37:31.660207Z",
     "iopub.status.idle": "2024-07-03T12:37:31.664245Z",
     "shell.execute_reply": "2024-07-03T12:37:31.663706Z",
     "shell.execute_reply.started": "2024-07-03T12:37:31.660431Z"
    },
    "tags": []
   },
   "outputs": [
    {
     "ename": "",
     "evalue": "",
     "output_type": "error",
     "traceback": [
      "\u001b[1;31mRunning cells with 'scglue (Python 3.10.14)' requires the ipykernel package.\n",
      "\u001b[1;31mRun the following command to install 'ipykernel' into the Python environment. \n",
      "\u001b[1;31mCommand: 'conda install -n scglue ipykernel --update-deps --force-reinstall'"
     ]
    }
   ],
   "source": [
    "import anndata as ad\n",
    "import networkx as nx\n",
    "import scanpy as sc\n",
    "import scglue\n",
    "from matplotlib import rcParams\n",
    "import os \n",
    "import subprocess\n",
    "import pandas as pd\n",
    "import numpy as np\n",
    "work_dir = 'output/'\n",
    "data_dir = '/resources/'\n",
    "input_dir = 'input/'\n",
    "os.makedirs(work_dir, exist_ok=True)"
   ]
  },
  {
   "cell_type": "code",
   "execution_count": null,
   "id": "33484e23-99eb-4c95-821d-2a93bfc5d161",
   "metadata": {
    "execution": {
     "iopub.execute_input": "2024-07-03T12:37:44.480855Z",
     "iopub.status.busy": "2024-07-03T12:37:44.480482Z",
     "iopub.status.idle": "2024-07-03T12:37:44.483812Z",
     "shell.execute_reply": "2024-07-03T12:37:44.483249Z",
     "shell.execute_reply.started": "2024-07-03T12:37:44.480829Z"
    },
    "tags": []
   },
   "outputs": [
    {
     "ename": "",
     "evalue": "",
     "output_type": "error",
     "traceback": [
      "\u001b[1;31mRunning cells with 'scglue (Python 3.10.14)' requires the ipykernel package.\n",
      "\u001b[1;31mRun the following command to install 'ipykernel' into the Python environment. \n",
      "\u001b[1;31mCommand: 'conda install -n scglue ipykernel --update-deps --force-reinstall'"
     ]
    }
   ],
   "source": [
    "# pd.read_csv('output/pruned_grn.csv')\n",
    "par = {\n",
    "  \"multiomics_rna\": \"resources/grn-benchmark/multiomics_rna.h5ad\",\n",
    "  \"multiomics_atac\": \"resources/grn-benchmark/multiomics_atac.h5ad\",\n",
    "  \"motif_file\": \"resources/grn-benchmark/supp/JASPAR2022-hg38.bed.gz\",\n",
    "  \"annotation_file\": \"resources/grn-benchmark/supp/gencode.v45.annotation.gtf.gz\",\n",
    "  \"temp_dir\": 'output/scglue/',\n",
    "  \"num_workers\": 40,\n",
    "  \"prediction\": \"output/prediction.csv\",\n",
    "}"
   ]
  },
  {
   "cell_type": "code",
   "execution_count": 3,
   "id": "dc4cb65f",
   "metadata": {},
   "outputs": [
    {
     "name": "stderr",
     "output_type": "stream",
     "text": [
      "regulatory_inference: 100%|██████████| 95021/95021 [00:00<00:00, 116563.85it/s]\n"
     ]
    },
    {
     "ename": "KeyboardInterrupt",
     "evalue": "",
     "output_type": "error",
     "traceback": [
      "\u001b[0;31m---------------------------------------------------------------------------\u001b[0m",
      "\u001b[0;31mKeyboardInterrupt\u001b[0m                         Traceback (most recent call last)",
      "Cell \u001b[0;32mIn[3], line 38\u001b[0m\n\u001b[1;32m     30\u001b[0m scglue\u001b[38;5;241m.\u001b[39mgenomics\u001b[38;5;241m.\u001b[39mBed(atac\u001b[38;5;241m.\u001b[39mvar)\u001b[38;5;241m.\u001b[39mwrite_bed(\u001b[38;5;124mf\u001b[39m\u001b[38;5;124m\"\u001b[39m\u001b[38;5;132;01m{\u001b[39;00mpar[\u001b[38;5;124m'\u001b[39m\u001b[38;5;124mtemp_dir\u001b[39m\u001b[38;5;124m'\u001b[39m]\u001b[38;5;132;01m}\u001b[39;00m\u001b[38;5;124m/peaks.bed\u001b[39m\u001b[38;5;124m\"\u001b[39m, ncols\u001b[38;5;241m=\u001b[39m\u001b[38;5;241m3\u001b[39m)\n\u001b[1;32m     31\u001b[0m scglue\u001b[38;5;241m.\u001b[39mgenomics\u001b[38;5;241m.\u001b[39mwrite_links(\n\u001b[1;32m     32\u001b[0m     gene2peak,\n\u001b[1;32m     33\u001b[0m     scglue\u001b[38;5;241m.\u001b[39mgenomics\u001b[38;5;241m.\u001b[39mBed(rna\u001b[38;5;241m.\u001b[39mvar)\u001b[38;5;241m.\u001b[39mstrand_specific_start_site(),\n\u001b[1;32m     34\u001b[0m     scglue\u001b[38;5;241m.\u001b[39mgenomics\u001b[38;5;241m.\u001b[39mBed(atac\u001b[38;5;241m.\u001b[39mvar),\n\u001b[1;32m     35\u001b[0m     \u001b[38;5;124mf\u001b[39m\u001b[38;5;124m\"\u001b[39m\u001b[38;5;132;01m{\u001b[39;00mpar[\u001b[38;5;124m'\u001b[39m\u001b[38;5;124mtemp_dir\u001b[39m\u001b[38;5;124m'\u001b[39m]\u001b[38;5;132;01m}\u001b[39;00m\u001b[38;5;124m/gene2peak.links\u001b[39m\u001b[38;5;124m\"\u001b[39m, keep_attrs\u001b[38;5;241m=\u001b[39m[\u001b[38;5;124m\"\u001b[39m\u001b[38;5;124mscore\u001b[39m\u001b[38;5;124m\"\u001b[39m]\n\u001b[1;32m     36\u001b[0m )\n\u001b[0;32m---> 38\u001b[0m motif_bed \u001b[38;5;241m=\u001b[39m \u001b[43mscglue\u001b[49m\u001b[38;5;241;43m.\u001b[39;49m\u001b[43mgenomics\u001b[49m\u001b[38;5;241;43m.\u001b[39;49m\u001b[43mread_bed\u001b[49m\u001b[43m(\u001b[49m\u001b[43mpar\u001b[49m\u001b[43m[\u001b[49m\u001b[38;5;124;43m'\u001b[39;49m\u001b[38;5;124;43mmotif_file\u001b[39;49m\u001b[38;5;124;43m'\u001b[39;49m\u001b[43m]\u001b[49m\u001b[43m)\u001b[49m \u001b[38;5;66;03m## http://download.gao-lab.org/GLUE/cisreg/JASPAR2022-hg38.bed.gz\u001b[39;00m\n\u001b[1;32m     39\u001b[0m tfs \u001b[38;5;241m=\u001b[39m pd\u001b[38;5;241m.\u001b[39mIndex(motif_bed[\u001b[38;5;124m\"\u001b[39m\u001b[38;5;124mname\u001b[39m\u001b[38;5;124m\"\u001b[39m])\u001b[38;5;241m.\u001b[39mintersection(rna\u001b[38;5;241m.\u001b[39mvar_names)\n\u001b[1;32m     40\u001b[0m rna[:, np\u001b[38;5;241m.\u001b[39munion1d(genes, tfs)]\u001b[38;5;241m.\u001b[39mwrite_loom(\u001b[38;5;124mf\u001b[39m\u001b[38;5;124m\"\u001b[39m\u001b[38;5;132;01m{\u001b[39;00mpar[\u001b[38;5;124m'\u001b[39m\u001b[38;5;124mtemp_dir\u001b[39m\u001b[38;5;124m'\u001b[39m]\u001b[38;5;132;01m}\u001b[39;00m\u001b[38;5;124m/rna.loom\u001b[39m\u001b[38;5;124m\"\u001b[39m)\n",
      "File \u001b[0;32m~/anaconda3/envs/scglue/lib/python3.10/site-packages/scglue/genomics.py:83\u001b[0m, in \u001b[0;36mBed.read_bed\u001b[0;34m(cls, fname)\u001b[0m\n\u001b[1;32m     69\u001b[0m \u001b[38;5;250m\u001b[39m\u001b[38;5;124mr\u001b[39m\u001b[38;5;124;03m\"\"\"\u001b[39;00m\n\u001b[1;32m     70\u001b[0m \u001b[38;5;124;03mRead BED file\u001b[39;00m\n\u001b[1;32m     71\u001b[0m \n\u001b[0;32m   (...)\u001b[0m\n\u001b[1;32m     80\u001b[0m \u001b[38;5;124;03m    Loaded :class:`Bed` object\u001b[39;00m\n\u001b[1;32m     81\u001b[0m \u001b[38;5;124;03m\"\"\"\u001b[39;00m\n\u001b[1;32m     82\u001b[0m COLUMNS \u001b[38;5;241m=\u001b[39m \u001b[38;5;28mcls\u001b[39m\u001b[38;5;241m.\u001b[39mCOLUMNS\u001b[38;5;241m.\u001b[39mcopy(deep\u001b[38;5;241m=\u001b[39m\u001b[38;5;28;01mTrue\u001b[39;00m)\n\u001b[0;32m---> 83\u001b[0m loaded \u001b[38;5;241m=\u001b[39m \u001b[43mpd\u001b[49m\u001b[38;5;241;43m.\u001b[39;49m\u001b[43mread_csv\u001b[49m\u001b[43m(\u001b[49m\u001b[43mfname\u001b[49m\u001b[43m,\u001b[49m\u001b[43m \u001b[49m\u001b[43msep\u001b[49m\u001b[38;5;241;43m=\u001b[39;49m\u001b[38;5;124;43m\"\u001b[39;49m\u001b[38;5;130;43;01m\\t\u001b[39;49;00m\u001b[38;5;124;43m\"\u001b[39;49m\u001b[43m,\u001b[49m\u001b[43m \u001b[49m\u001b[43mheader\u001b[49m\u001b[38;5;241;43m=\u001b[39;49m\u001b[38;5;28;43;01mNone\u001b[39;49;00m\u001b[43m,\u001b[49m\u001b[43m \u001b[49m\u001b[43mcomment\u001b[49m\u001b[38;5;241;43m=\u001b[39;49m\u001b[38;5;124;43m\"\u001b[39;49m\u001b[38;5;124;43m#\u001b[39;49m\u001b[38;5;124;43m\"\u001b[39;49m\u001b[43m)\u001b[49m\n\u001b[1;32m     84\u001b[0m loaded\u001b[38;5;241m.\u001b[39mcolumns \u001b[38;5;241m=\u001b[39m COLUMNS[:loaded\u001b[38;5;241m.\u001b[39mshape[\u001b[38;5;241m1\u001b[39m]]\n\u001b[1;32m     85\u001b[0m \u001b[38;5;28;01mreturn\u001b[39;00m \u001b[38;5;28mcls\u001b[39m(loaded)\n",
      "File \u001b[0;32m~/anaconda3/envs/scglue/lib/python3.10/site-packages/pandas/io/parsers/readers.py:1026\u001b[0m, in \u001b[0;36mread_csv\u001b[0;34m(filepath_or_buffer, sep, delimiter, header, names, index_col, usecols, dtype, engine, converters, true_values, false_values, skipinitialspace, skiprows, skipfooter, nrows, na_values, keep_default_na, na_filter, verbose, skip_blank_lines, parse_dates, infer_datetime_format, keep_date_col, date_parser, date_format, dayfirst, cache_dates, iterator, chunksize, compression, thousands, decimal, lineterminator, quotechar, quoting, doublequote, escapechar, comment, encoding, encoding_errors, dialect, on_bad_lines, delim_whitespace, low_memory, memory_map, float_precision, storage_options, dtype_backend)\u001b[0m\n\u001b[1;32m   1013\u001b[0m kwds_defaults \u001b[38;5;241m=\u001b[39m _refine_defaults_read(\n\u001b[1;32m   1014\u001b[0m     dialect,\n\u001b[1;32m   1015\u001b[0m     delimiter,\n\u001b[0;32m   (...)\u001b[0m\n\u001b[1;32m   1022\u001b[0m     dtype_backend\u001b[38;5;241m=\u001b[39mdtype_backend,\n\u001b[1;32m   1023\u001b[0m )\n\u001b[1;32m   1024\u001b[0m kwds\u001b[38;5;241m.\u001b[39mupdate(kwds_defaults)\n\u001b[0;32m-> 1026\u001b[0m \u001b[38;5;28;01mreturn\u001b[39;00m \u001b[43m_read\u001b[49m\u001b[43m(\u001b[49m\u001b[43mfilepath_or_buffer\u001b[49m\u001b[43m,\u001b[49m\u001b[43m \u001b[49m\u001b[43mkwds\u001b[49m\u001b[43m)\u001b[49m\n",
      "File \u001b[0;32m~/anaconda3/envs/scglue/lib/python3.10/site-packages/pandas/io/parsers/readers.py:626\u001b[0m, in \u001b[0;36m_read\u001b[0;34m(filepath_or_buffer, kwds)\u001b[0m\n\u001b[1;32m    623\u001b[0m     \u001b[38;5;28;01mreturn\u001b[39;00m parser\n\u001b[1;32m    625\u001b[0m \u001b[38;5;28;01mwith\u001b[39;00m parser:\n\u001b[0;32m--> 626\u001b[0m     \u001b[38;5;28;01mreturn\u001b[39;00m \u001b[43mparser\u001b[49m\u001b[38;5;241;43m.\u001b[39;49m\u001b[43mread\u001b[49m\u001b[43m(\u001b[49m\u001b[43mnrows\u001b[49m\u001b[43m)\u001b[49m\n",
      "File \u001b[0;32m~/anaconda3/envs/scglue/lib/python3.10/site-packages/pandas/io/parsers/readers.py:1923\u001b[0m, in \u001b[0;36mTextFileReader.read\u001b[0;34m(self, nrows)\u001b[0m\n\u001b[1;32m   1916\u001b[0m nrows \u001b[38;5;241m=\u001b[39m validate_integer(\u001b[38;5;124m\"\u001b[39m\u001b[38;5;124mnrows\u001b[39m\u001b[38;5;124m\"\u001b[39m, nrows)\n\u001b[1;32m   1917\u001b[0m \u001b[38;5;28;01mtry\u001b[39;00m:\n\u001b[1;32m   1918\u001b[0m     \u001b[38;5;66;03m# error: \"ParserBase\" has no attribute \"read\"\u001b[39;00m\n\u001b[1;32m   1919\u001b[0m     (\n\u001b[1;32m   1920\u001b[0m         index,\n\u001b[1;32m   1921\u001b[0m         columns,\n\u001b[1;32m   1922\u001b[0m         col_dict,\n\u001b[0;32m-> 1923\u001b[0m     ) \u001b[38;5;241m=\u001b[39m \u001b[38;5;28;43mself\u001b[39;49m\u001b[38;5;241;43m.\u001b[39;49m\u001b[43m_engine\u001b[49m\u001b[38;5;241;43m.\u001b[39;49m\u001b[43mread\u001b[49m\u001b[43m(\u001b[49m\u001b[43m  \u001b[49m\u001b[38;5;66;43;03m# type: ignore[attr-defined]\u001b[39;49;00m\n\u001b[1;32m   1924\u001b[0m \u001b[43m        \u001b[49m\u001b[43mnrows\u001b[49m\n\u001b[1;32m   1925\u001b[0m \u001b[43m    \u001b[49m\u001b[43m)\u001b[49m\n\u001b[1;32m   1926\u001b[0m \u001b[38;5;28;01mexcept\u001b[39;00m \u001b[38;5;167;01mException\u001b[39;00m:\n\u001b[1;32m   1927\u001b[0m     \u001b[38;5;28mself\u001b[39m\u001b[38;5;241m.\u001b[39mclose()\n",
      "File \u001b[0;32m~/anaconda3/envs/scglue/lib/python3.10/site-packages/pandas/io/parsers/c_parser_wrapper.py:234\u001b[0m, in \u001b[0;36mCParserWrapper.read\u001b[0;34m(self, nrows)\u001b[0m\n\u001b[1;32m    232\u001b[0m \u001b[38;5;28;01mtry\u001b[39;00m:\n\u001b[1;32m    233\u001b[0m     \u001b[38;5;28;01mif\u001b[39;00m \u001b[38;5;28mself\u001b[39m\u001b[38;5;241m.\u001b[39mlow_memory:\n\u001b[0;32m--> 234\u001b[0m         chunks \u001b[38;5;241m=\u001b[39m \u001b[38;5;28;43mself\u001b[39;49m\u001b[38;5;241;43m.\u001b[39;49m\u001b[43m_reader\u001b[49m\u001b[38;5;241;43m.\u001b[39;49m\u001b[43mread_low_memory\u001b[49m\u001b[43m(\u001b[49m\u001b[43mnrows\u001b[49m\u001b[43m)\u001b[49m\n\u001b[1;32m    235\u001b[0m         \u001b[38;5;66;03m# destructive to chunks\u001b[39;00m\n\u001b[1;32m    236\u001b[0m         data \u001b[38;5;241m=\u001b[39m _concatenate_chunks(chunks)\n",
      "File \u001b[0;32mparsers.pyx:838\u001b[0m, in \u001b[0;36mpandas._libs.parsers.TextReader.read_low_memory\u001b[0;34m()\u001b[0m\n",
      "File \u001b[0;32mparsers.pyx:905\u001b[0m, in \u001b[0;36mpandas._libs.parsers.TextReader._read_rows\u001b[0;34m()\u001b[0m\n",
      "File \u001b[0;32mparsers.pyx:874\u001b[0m, in \u001b[0;36mpandas._libs.parsers.TextReader._tokenize_rows\u001b[0;34m()\u001b[0m\n",
      "File \u001b[0;32mparsers.pyx:891\u001b[0m, in \u001b[0;36mpandas._libs.parsers.TextReader._check_tokenize_status\u001b[0;34m()\u001b[0m\n",
      "File \u001b[0;32mparsers.pyx:2053\u001b[0m, in \u001b[0;36mpandas._libs.parsers.raise_parser_error\u001b[0;34m()\u001b[0m\n",
      "File \u001b[0;32m~/anaconda3/envs/scglue/lib/python3.10/_compression.py:68\u001b[0m, in \u001b[0;36mDecompressReader.readinto\u001b[0;34m(self, b)\u001b[0m\n\u001b[1;32m     66\u001b[0m \u001b[38;5;28;01mdef\u001b[39;00m \u001b[38;5;21mreadinto\u001b[39m(\u001b[38;5;28mself\u001b[39m, b):\n\u001b[1;32m     67\u001b[0m     \u001b[38;5;28;01mwith\u001b[39;00m \u001b[38;5;28mmemoryview\u001b[39m(b) \u001b[38;5;28;01mas\u001b[39;00m view, view\u001b[38;5;241m.\u001b[39mcast(\u001b[38;5;124m\"\u001b[39m\u001b[38;5;124mB\u001b[39m\u001b[38;5;124m\"\u001b[39m) \u001b[38;5;28;01mas\u001b[39;00m byte_view:\n\u001b[0;32m---> 68\u001b[0m         data \u001b[38;5;241m=\u001b[39m \u001b[38;5;28;43mself\u001b[39;49m\u001b[38;5;241;43m.\u001b[39;49m\u001b[43mread\u001b[49m\u001b[43m(\u001b[49m\u001b[38;5;28;43mlen\u001b[39;49m\u001b[43m(\u001b[49m\u001b[43mbyte_view\u001b[49m\u001b[43m)\u001b[49m\u001b[43m)\u001b[49m\n\u001b[1;32m     69\u001b[0m         byte_view[:\u001b[38;5;28mlen\u001b[39m(data)] \u001b[38;5;241m=\u001b[39m data\n\u001b[1;32m     70\u001b[0m     \u001b[38;5;28;01mreturn\u001b[39;00m \u001b[38;5;28mlen\u001b[39m(data)\n",
      "File \u001b[0;32m~/anaconda3/envs/scglue/lib/python3.10/gzip.py:494\u001b[0m, in \u001b[0;36m_GzipReader.read\u001b[0;34m(self, size)\u001b[0m\n\u001b[1;32m    491\u001b[0m     \u001b[38;5;28mself\u001b[39m\u001b[38;5;241m.\u001b[39m_new_member \u001b[38;5;241m=\u001b[39m \u001b[38;5;28;01mFalse\u001b[39;00m\n\u001b[1;32m    493\u001b[0m \u001b[38;5;66;03m# Read a chunk of data from the file\u001b[39;00m\n\u001b[0;32m--> 494\u001b[0m buf \u001b[38;5;241m=\u001b[39m \u001b[38;5;28;43mself\u001b[39;49m\u001b[38;5;241;43m.\u001b[39;49m\u001b[43m_fp\u001b[49m\u001b[38;5;241;43m.\u001b[39;49m\u001b[43mread\u001b[49m\u001b[43m(\u001b[49m\u001b[43mio\u001b[49m\u001b[38;5;241;43m.\u001b[39;49m\u001b[43mDEFAULT_BUFFER_SIZE\u001b[49m\u001b[43m)\u001b[49m\n\u001b[1;32m    496\u001b[0m uncompress \u001b[38;5;241m=\u001b[39m \u001b[38;5;28mself\u001b[39m\u001b[38;5;241m.\u001b[39m_decompressor\u001b[38;5;241m.\u001b[39mdecompress(buf, size)\n\u001b[1;32m    497\u001b[0m \u001b[38;5;28;01mif\u001b[39;00m \u001b[38;5;28mself\u001b[39m\u001b[38;5;241m.\u001b[39m_decompressor\u001b[38;5;241m.\u001b[39munconsumed_tail \u001b[38;5;241m!=\u001b[39m \u001b[38;5;124mb\u001b[39m\u001b[38;5;124m\"\u001b[39m\u001b[38;5;124m\"\u001b[39m:\n",
      "File \u001b[0;32m~/anaconda3/envs/scglue/lib/python3.10/gzip.py:88\u001b[0m, in \u001b[0;36m_PaddedFile.read\u001b[0;34m(self, size)\u001b[0m\n\u001b[1;32m     86\u001b[0m \u001b[38;5;28;01mdef\u001b[39;00m \u001b[38;5;21mread\u001b[39m(\u001b[38;5;28mself\u001b[39m, size):\n\u001b[1;32m     87\u001b[0m     \u001b[38;5;28;01mif\u001b[39;00m \u001b[38;5;28mself\u001b[39m\u001b[38;5;241m.\u001b[39m_read \u001b[38;5;129;01mis\u001b[39;00m \u001b[38;5;28;01mNone\u001b[39;00m:\n\u001b[0;32m---> 88\u001b[0m         \u001b[38;5;28;01mreturn\u001b[39;00m \u001b[38;5;28;43mself\u001b[39;49m\u001b[38;5;241;43m.\u001b[39;49m\u001b[43mfile\u001b[49m\u001b[38;5;241;43m.\u001b[39;49m\u001b[43mread\u001b[49m\u001b[43m(\u001b[49m\u001b[43msize\u001b[49m\u001b[43m)\u001b[49m\n\u001b[1;32m     89\u001b[0m     \u001b[38;5;28;01mif\u001b[39;00m \u001b[38;5;28mself\u001b[39m\u001b[38;5;241m.\u001b[39m_read \u001b[38;5;241m+\u001b[39m size \u001b[38;5;241m<\u001b[39m\u001b[38;5;241m=\u001b[39m \u001b[38;5;28mself\u001b[39m\u001b[38;5;241m.\u001b[39m_length:\n\u001b[1;32m     90\u001b[0m         read \u001b[38;5;241m=\u001b[39m \u001b[38;5;28mself\u001b[39m\u001b[38;5;241m.\u001b[39m_read\n",
      "\u001b[0;31mKeyboardInterrupt\u001b[0m: "
     ]
    }
   ],
   "source": [
    "rna = ad.read_h5ad(f\"{par['temp_dir']}/rna-emb.h5ad\")\n",
    "atac = ad.read_h5ad(f\"{par['temp_dir']}/atac-emb.h5ad\")\n",
    "guidance = nx.read_graphml(f\"{par['temp_dir']}/guidance.graphml.gz\")\n",
    "\n",
    "rna.var[\"name\"] = rna.var_names\n",
    "atac.var[\"name\"] = atac.var_names\n",
    "\n",
    "genes = rna.var.index\n",
    "peaks = atac.var.index\n",
    "\n",
    "features = pd.Index(np.concatenate([rna.var_names, atac.var_names]))\n",
    "feature_embeddings = np.concatenate([rna.varm[\"X_glue\"], atac.varm[\"X_glue\"]])\n",
    "\n",
    "skeleton = guidance.edge_subgraph(\n",
    "    e for e, attr in dict(guidance.edges).items()\n",
    "    if attr[\"type\"] == \"fwd\"\n",
    ").copy()\n",
    "\n",
    "reginf = scglue.genomics.regulatory_inference(\n",
    "    features, feature_embeddings,\n",
    "    skeleton=skeleton, random_state=0\n",
    ")\n",
    "\n",
    "gene2peak = reginf.edge_subgraph(\n",
    "    e for e, attr in dict(reginf.edges).items()\n",
    "    if attr[\"qval\"] < 0.05\n",
    ")\n",
    "\n",
    "\n",
    "scglue.genomics.Bed(atac.var).write_bed(f\"{par['temp_dir']}/peaks.bed\", ncols=3)\n",
    "scglue.genomics.write_links(\n",
    "    gene2peak,\n",
    "    scglue.genomics.Bed(rna.var).strand_specific_start_site(),\n",
    "    scglue.genomics.Bed(atac.var),\n",
    "    f\"{par['temp_dir']}/gene2peak.links\", keep_attrs=[\"score\"]\n",
    ")\n",
    "\n",
    "motif_bed = scglue.genomics.read_bed(par['motif_file']) ## http://download.gao-lab.org/GLUE/cisreg/JASPAR2022-hg38.bed.gz\n",
    "tfs = pd.Index(motif_bed[\"name\"]).intersection(rna.var_names)\n",
    "rna[:, np.union1d(genes, tfs)].write_loom(f\"{par['temp_dir']}/rna.loom\")\n",
    "np.savetxt(f\"{par['temp_dir']}/tfs.txt\", tfs, fmt=\"%s\")"
   ]
  },
  {
   "cell_type": "code",
   "execution_count": null,
   "id": "fd2ecf16",
   "metadata": {},
   "outputs": [
    {
     "name": "stdout",
     "output_type": "stream",
     "text": [
      "Collecting distributed\n",
      "  Using cached distributed-2024.7.0-py3-none-any.whl.metadata (3.4 kB)\n",
      "Requirement already satisfied: click>=8.0 in /root/anaconda3/envs/scglue/lib/python3.10/site-packages (from distributed) (8.1.7)\n",
      "Requirement already satisfied: cloudpickle>=1.5.0 in /root/anaconda3/envs/scglue/lib/python3.10/site-packages (from distributed) (3.0.0)\n",
      "Requirement already satisfied: dask==2024.7.0 in /root/anaconda3/envs/scglue/lib/python3.10/site-packages (from distributed) (2024.7.0)\n",
      "Requirement already satisfied: jinja2>=2.10.3 in /root/anaconda3/envs/scglue/lib/python3.10/site-packages (from distributed) (3.1.4)\n",
      "Requirement already satisfied: locket>=1.0.0 in /root/anaconda3/envs/scglue/lib/python3.10/site-packages (from distributed) (1.0.0)\n",
      "Requirement already satisfied: msgpack>=1.0.0 in /root/anaconda3/envs/scglue/lib/python3.10/site-packages (from distributed) (1.0.8)\n",
      "Requirement already satisfied: packaging>=20.0 in /root/anaconda3/envs/scglue/lib/python3.10/site-packages (from distributed) (24.1)\n",
      "Requirement already satisfied: psutil>=5.7.2 in /root/anaconda3/envs/scglue/lib/python3.10/site-packages (from distributed) (5.9.0)\n",
      "Requirement already satisfied: pyyaml>=5.3.1 in /root/anaconda3/envs/scglue/lib/python3.10/site-packages (from distributed) (6.0.1)\n",
      "Requirement already satisfied: sortedcontainers>=2.0.5 in /root/anaconda3/envs/scglue/lib/python3.10/site-packages (from distributed) (2.4.0)\n",
      "Requirement already satisfied: tblib>=1.6.0 in /root/anaconda3/envs/scglue/lib/python3.10/site-packages (from distributed) (3.0.0)\n",
      "Requirement already satisfied: toolz>=0.10.0 in /root/anaconda3/envs/scglue/lib/python3.10/site-packages (from distributed) (0.12.1)\n",
      "Requirement already satisfied: tornado>=6.0.4 in /root/anaconda3/envs/scglue/lib/python3.10/site-packages (from distributed) (6.4.1)\n",
      "Requirement already satisfied: urllib3>=1.24.3 in /root/anaconda3/envs/scglue/lib/python3.10/site-packages (from distributed) (2.2.2)\n",
      "Requirement already satisfied: zict>=3.0.0 in /root/anaconda3/envs/scglue/lib/python3.10/site-packages (from distributed) (3.0.0)\n",
      "Requirement already satisfied: fsspec>=2021.09.0 in /root/anaconda3/envs/scglue/lib/python3.10/site-packages (from dask==2024.7.0->distributed) (2024.6.1)\n",
      "Requirement already satisfied: partd>=1.4.0 in /root/anaconda3/envs/scglue/lib/python3.10/site-packages (from dask==2024.7.0->distributed) (1.4.2)\n",
      "Requirement already satisfied: importlib-metadata>=4.13.0 in /root/anaconda3/envs/scglue/lib/python3.10/site-packages (from dask==2024.7.0->distributed) (8.0.0)\n",
      "Requirement already satisfied: MarkupSafe>=2.0 in /root/anaconda3/envs/scglue/lib/python3.10/site-packages (from jinja2>=2.10.3->distributed) (2.1.5)\n",
      "Requirement already satisfied: zipp>=0.5 in /root/anaconda3/envs/scglue/lib/python3.10/site-packages (from importlib-metadata>=4.13.0->dask==2024.7.0->distributed) (3.19.2)\n",
      "Using cached distributed-2024.7.0-py3-none-any.whl (1.0 MB)\n",
      "Installing collected packages: distributed\n",
      "Successfully installed distributed-2024.7.0\n",
      "\u001b[33mWARNING: Running pip as the 'root' user can result in broken permissions and conflicting behaviour with the system package manager. It is recommended to use a virtual environment instead: https://pip.pypa.io/warnings/venv\u001b[0m\u001b[33m\n",
      "\u001b[0m"
     ]
    }
   ],
   "source": [
    "# !pip install distributed "
   ]
  },
  {
   "cell_type": "code",
   "execution_count": 4,
   "id": "083ce1d8",
   "metadata": {},
   "outputs": [
    {
     "name": "stdout",
     "output_type": "stream",
     "text": [
      "Output:\n",
      "\n",
      "Error:\n",
      "Traceback (most recent call last):\n",
      "  File \"/root/anaconda3/envs/scglue/bin/pyscenic\", line 5, in <module>\n",
      "    from pyscenic.cli.pyscenic import main\n",
      "  File \"/root/anaconda3/envs/scglue/lib/python3.10/site-packages/pyscenic/cli/pyscenic.py\", line 19, in <module>\n",
      "    from arboreto.algo import genie3, grnboost2\n",
      "  File \"/root/anaconda3/envs/scglue/lib/python3.10/site-packages/arboreto/algo.py\", line 7, in <module>\n",
      "    from arboreto.core import create_graph, SGBM_KWARGS, RF_KWARGS, EARLY_STOP_WINDOW_LENGTH\n",
      "  File \"/root/anaconda3/envs/scglue/lib/python3.10/site-packages/arboreto/core.py\", line 12, in <module>\n",
      "    from dask.dataframe import from_delayed\n",
      "  File \"/root/anaconda3/envs/scglue/lib/python3.10/site-packages/dask/dataframe/__init__.py\", line 4, in <module>\n",
      "    from dask.dataframe import backends, dispatch, rolling\n",
      "  File \"/root/anaconda3/envs/scglue/lib/python3.10/site-packages/dask/dataframe/backends.py\", line 21, in <module>\n",
      "    from dask.dataframe.core import DataFrame, Index, Scalar, Series, _Frame\n",
      "  File \"/root/anaconda3/envs/scglue/lib/python3.10/site-packages/dask/dataframe/core.py\", line 35, in <module>\n",
      "    from dask.dataframe import methods\n",
      "  File \"/root/anaconda3/envs/scglue/lib/python3.10/site-packages/dask/dataframe/methods.py\", line 22, in <module>\n",
      "    from dask.dataframe.utils import is_dataframe_like, is_index_like, is_series_like\n",
      "  File \"/root/anaconda3/envs/scglue/lib/python3.10/site-packages/dask/dataframe/utils.py\", line 19, in <module>\n",
      "    from dask.dataframe import (  # noqa: F401 register pandas extension types\n",
      "  File \"/root/anaconda3/envs/scglue/lib/python3.10/site-packages/dask/dataframe/_dtypes.py\", line 3, in <module>\n",
      "    from dask.dataframe.extensions import make_array_nonempty, make_scalar\n",
      "  File \"/root/anaconda3/envs/scglue/lib/python3.10/site-packages/dask/dataframe/extensions.py\", line 6, in <module>\n",
      "    from dask.dataframe.accessor import (\n",
      "  File \"/root/anaconda3/envs/scglue/lib/python3.10/site-packages/dask/dataframe/accessor.py\", line 190, in <module>\n",
      "    class StringAccessor(Accessor):\n",
      "  File \"/root/anaconda3/envs/scglue/lib/python3.10/site-packages/dask/dataframe/accessor.py\", line 276, in StringAccessor\n",
      "    pd.core.strings.StringMethods,\n",
      "AttributeError: module 'pandas.core.strings' has no attribute 'StringMethods'\n",
      "\n",
      "Command failed with return code 1\n"
     ]
    }
   ],
   "source": [
    "\n",
    "# Construct the command \n",
    "command = (\n",
    "    f\"pyscenic grn {par['temp_dir']}/rna.loom {par['temp_dir']}/tfs.txt \"\n",
    "    f\"-o {par['temp_dir']}/draft_grn.csv --seed 0 --num_workers {par['num_workers']} \"\n",
    "    \"--cell_id_attribute obs_id --gene_attribute name\"\n",
    ")\n",
    "\n",
    "result = subprocess.run(command, shell=True)\n",
    "\n",
    "print(\"Output:\")\n",
    "print(result.stdout)\n",
    "print(\"Error:\")\n",
    "print(result.stderr)\n",
    "\n",
    "if result.returncode == 0:\n",
    "    print(\"Command executed successfully\")\n",
    "else:\n",
    "    print(\"Command failed with return code\", result.returncode)\n"
   ]
  },
  {
   "cell_type": "code",
   "execution_count": 31,
   "id": "438106f7",
   "metadata": {},
   "outputs": [],
   "source": [
    "!"
   ]
  },
  {
   "cell_type": "code",
   "execution_count": null,
   "id": "3f7c3a7b",
   "metadata": {},
   "outputs": [],
   "source": [
    "\n",
    "\n",
    "print(\"Generate TF cis-regulatory ranking bridged by ATAC peaks\", flush=True)\n",
    "peak_bed = scglue.genomics.Bed(atac.var.loc[peaks])\n",
    "peak2tf = scglue.genomics.window_graph(peak_bed, motif_bed, 0, right_sorted=True)\n",
    "peak2tf = peak2tf.edge_subgraph(e for e in peak2tf.edges if e[1] in tfs)\n",
    "\n",
    "gene2tf_rank_glue = scglue.genomics.cis_regulatory_ranking(\n",
    "    gene2peak, peak2tf, genes, peaks, tfs,\n",
    "    region_lens=atac.var.loc[peaks, \"chromEnd\"] - atac.var.loc[peaks, \"chromStart\"],\n",
    "    random_state=0)\n",
    "\n",
    "flank_bed = scglue.genomics.Bed(rna.var.loc[genes]).strand_specific_start_site().expand(500, 500)\n",
    "flank2tf = scglue.genomics.window_graph(flank_bed, motif_bed, 0, right_sorted=True)\n",
    "\n",
    "gene2flank = nx.Graph([(g, g) for g in genes])\n",
    "gene2tf_rank_supp = scglue.genomics.cis_regulatory_ranking(\n",
    "    gene2flank, flank2tf, genes, genes, tfs,\n",
    "    n_samples=0\n",
    ")\n",
    "\n",
    "### Prune coexpression network using cis-regulatory ranking\n",
    "\n",
    "gene2tf_rank_glue.columns = gene2tf_rank_glue.columns + \"_glue\"\n",
    "gene2tf_rank_supp.columns = gene2tf_rank_supp.columns + \"_supp\"\n",
    "\n",
    "scglue.genomics.write_scenic_feather(gene2tf_rank_glue, f\"{par['temp_dir']}/glue.genes_vs_tracks.rankings.feather\")\n",
    "scglue.genomics.write_scenic_feather(gene2tf_rank_supp, f\"{par['temp_dir']}/supp.genes_vs_tracks.rankings.feather\")\n",
    "\n",
    "pd.concat([\n",
    "    pd.DataFrame({\n",
    "            \"#motif_id\": tfs + \"_glue\",\n",
    "            \"gene_name\": tfs\n",
    "        }),\n",
    "    pd.DataFrame({\n",
    "        \"#motif_id\": tfs + \"_supp\",\n",
    "        \"gene_name\": tfs\n",
    "    })\n",
    "]).assign(\n",
    "    motif_similarity_qvalue=0.0,\n",
    "    orthologous_identity=1.0,\n",
    "    description=\"placeholder\"\n",
    ").to_csv(f\"{par['temp_dir']}/ctx_annotation.tsv\", sep=\"\\t\", index=False)\n",
    "\n",
    "# Construct the command \n",
    "#TODO: be sure that obs_id is in obs and name is in var\n",
    "print(\"Run pscenic ctx\", flush=True)\n",
    "command = (\n",
    "    f\" pyscenic ctx {par['temp_dir']}/draft_grn.csv {par['temp_dir']}/glue.genes_vs_tracks.rankings.feather \"\n",
    "    f\" {par['temp_dir']}/supp.genes_vs_tracks.rankings.feather  --annotations_fname {par['temp_dir']}/ctx_annotation.tsv \"\n",
    "    f\" --expression_mtx_fname {par['temp_dir']}/rna.loom --output {par['temp_dir']}/pruned_grn.csv \"\n",
    "    f\" --rank_threshold 500 --min_genes 1  --num_workers {par['num_workers']} \"\n",
    "    \" --cell_id_attribute obs_id --gene_attribute name\"\n",
    ")\n",
    "\n",
    "result = subprocess.run(command, shell=True, capture_output=True, text=True)\n",
    "\n",
    "print(\"Output:\")\n",
    "print(result.stdout)\n",
    "print(\"Error:\")\n",
    "print(result.stderr)\n",
    "\n",
    "if result.returncode == 0:\n",
    "    print(\"pyscenic ctx executed successfully\")\n",
    "else:\n",
    "    print(\"pyscenic ctx failed with return code\", result.returncode)"
   ]
  }
 ],
 "metadata": {
  "kernelspec": {
   "display_name": "saturn (Python 3)",
   "language": "python",
   "name": "python3"
  },
  "language_info": {
   "codemirror_mode": {
    "name": "ipython",
    "version": 3
   },
   "file_extension": ".py",
   "mimetype": "text/x-python",
   "name": "python",
   "nbconvert_exporter": "python",
   "pygments_lexer": "ipython3",
   "version": "3.10.14"
  }
 },
 "nbformat": 4,
 "nbformat_minor": 5
}
