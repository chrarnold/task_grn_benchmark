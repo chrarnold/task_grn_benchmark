{
 "cells": [
  {
   "cell_type": "code",
   "execution_count": null,
   "metadata": {},
   "outputs": [],
   "source": []
  },
  {
   "cell_type": "markdown",
   "metadata": {},
   "source": [
    "## Imports"
   ]
  },
  {
   "cell_type": "code",
   "execution_count": 1,
   "metadata": {},
   "outputs": [
    {
     "name": "stderr",
     "output_type": "stream",
     "text": [
      "/root/.local/lib/python3.10/site-packages/numba/np/ufunc/parallel.py:371: NumbaWarning: \u001b[1mThe TBB threading layer requires TBB version 2021 update 6 or later i.e., TBB_INTERFACE_VERSION >= 12060. Found TBB_INTERFACE_VERSION = 12050. The TBB threading layer is disabled.\u001b[0m\n",
      "  warnings.warn(problem)\n"
     ]
    }
   ],
   "source": [
    "import pandas as pd\n",
    "import os \n",
    "from celloracle import motif_analysis as ma\n",
    "import pandas as pd\n",
    "import celloracle as co\n",
    "import anndata\n",
    "import numpy as np\n",
    "import anndata as ad\n",
    "from celloracle import motif_analysis as ma\n",
    "import genomepy"
   ]
  },
  {
   "cell_type": "code",
   "execution_count": 2,
   "metadata": {},
   "outputs": [],
   "source": [
    "## VIASH START\n",
    "par = {\n",
    "  \"multiomics_rna\": \"resources/grn-benchmark/multiomics_rna.h5ad\",\n",
    "  \"multiomics_atac\": \"resources/grn-benchmark/multiomics_atac.h5ad\",\n",
    "  \"annotation_file\": \"resources/grn-benchmark/annotation_file\",\n",
    "  \"motif_file\": \"resources/grn-benchmark/motif_file\",\n",
    "  \"prediction\": \"output/prediction.csv\",\n",
    "}"
   ]
  },
  {
   "cell_type": "code",
   "execution_count": 3,
   "metadata": {},
   "outputs": [
    {
     "name": "stdout",
     "output_type": "stream",
     "text": [
      "Reading input files\n"
     ]
    }
   ],
   "source": [
    "print('Reading input files', flush=True)\n",
    "multiomics_rna = ad.read_h5ad(par[\"multiomics_rna\"])\n",
    "multiomics_atac = ad.read_h5ad(par[\"multiomics_atac\"])"
   ]
  },
  {
   "cell_type": "code",
   "execution_count": null,
   "metadata": {},
   "outputs": [],
   "source": [
    "genomes_dir = 'output'\n",
    "\n",
    "peaks = multiomics_atac.var_names.to_numpy()\n",
    "peaks = [peak.replace(':','_').replace(\"-\",'_') for peak in peaks]\n",
    "tss_annotated = ma.get_tss_info(peak_str_list=peaks, ref_genome=\"hg38\")\n",
    "tss_annotated['peak_id'] = tss_annotated['chr'].astype(str)+\"_\"+tss_annotated['start'].astype(str)+\"_\"+tss_annotated['end'].astype(str)\n",
    "peak_gene = tss_annotated\n",
    "\n",
    "\n",
    "genomepy.install_genome(name=\"hg38\", provider=\"UCSC\", genomes_dir=genomes_dir)\n",
    "\n",
    "# PLEASE make sure reference genome is correct.\n",
    "ref_genome = \"hg38\"\n",
    "\n",
    "genome_installation = ma.is_genome_installed(ref_genome=ref_genome,\n",
    "                                             genomes_dir=genomes_dir)\n",
    "print(ref_genome, \"installation: \", genome_installation)\n",
    "\n",
    "# Instantiate TFinfo object\n",
    "tfi = ma.TFinfo(peak_data_frame=peak_gene, \n",
    "                ref_genome=\"hg38\",\n",
    "                genomes_dir=genomes_dir) \n",
    "\n",
    "tfi.scan(fpr=0.05, \n",
    "         motifs=None,  # If you enter None, default motifs will be loaded.\n",
    "         verbose=True)\n",
    "# Check motif scan results\n",
    "tfi.scanned_df.head()\n",
    "# Reset filtering \n",
    "tfi.reset_filtering()\n",
    "\n",
    "# Do filtering\n",
    "tfi.filter_motifs_by_score(threshold=10)\n",
    "\n",
    "# Format post-filtering results.\n",
    "tfi.make_TFinfo_dataframe_and_dictionary(verbose=True)\n",
    "\n",
    "# Format and save \n",
    "df = tfi.to_dataframe()\n",
    "df.to_csv(f'{par['temp_dir']}/grn_celloracle_base.csv')"
   ]
  },
  {
   "cell_type": "markdown",
   "metadata": {},
   "source": [
    "## Annotations"
   ]
  },
  {
   "cell_type": "markdown",
   "metadata": {},
   "source": [
    "## GRN construction\n"
   ]
  },
  {
   "cell_type": "markdown",
   "metadata": {},
   "source": [
    "### Preprocessing scRNA-seq"
   ]
  },
  {
   "cell_type": "code",
   "execution_count": 86,
   "metadata": {},
   "outputs": [],
   "source": [
    "def preprocess_rna(par):\n",
    "    adata = ad.read_h5ad(par['multiomics_rna'])\n",
    "    adata.layers[\"counts\"] = adata.X.copy()\n",
    "    sc.pp.normalize_per_cell(adata, key_n_counts='n_counts_all')\n",
    "\n",
    "    filter_result = sc.pp.filter_genes_dispersion(adata.X,\n",
    "                                                flavor='cell_ranger',\n",
    "                                                n_top_genes=3000,\n",
    "                                                log=False)\n",
    "\n",
    "    # Subset the genes\n",
    "    adata = adata[:, filter_result.gene_subset]\n",
    "\n",
    "    # Renormalize after filtering\n",
    "    sc.pp.normalize_per_cell(adata)\n",
    "\n",
    "    # Log transformation and scaling\n",
    "    sc.pp.log1p(adata)\n",
    "    sc.pp.scale(adata)\n",
    "\n",
    "    # PCA\n",
    "    sc.tl.pca(adata, svd_solver='arpack')\n",
    "\n",
    "    # Diffusion map\n",
    "    sc.pp.neighbors(adata, n_neighbors=4, n_pcs=20)\n",
    "\n",
    "    sc.tl.diffmap(adata)\n",
    "    # Calculate neihbors again based on diffusionmap \n",
    "    sc.pp.neighbors(adata, n_neighbors=10, use_rep='X_diffmap')\n",
    "\n",
    "    sc.tl.louvain(adata, resolution=0.8)\n",
    "\n",
    "    sc.tl.paga(adata, groups='louvain')\n",
    "\n",
    "    sc.pl.paga(adata)\n",
    "    sc.tl.draw_graph(adata, init_pos='paga', random_state=123)\n",
    "    sc.pl.draw_graph(adata, color='louvain', legend_loc='on data')\n",
    "    # Check data in anndata\n",
    "    print(\"Metadata columns :\", list(adata.obs.columns))\n",
    "    print(\"Dimensional reduction: \", list(adata.obsm.keys()))\n",
    "\n",
    "    adata.X = adata.layers[\"counts\"].copy()\n",
    "\n",
    "    adata.write_h5ad(f\"{par['temp_dir']}/adata.h5ad\")"
   ]
  },
  {
   "cell_type": "code",
   "execution_count": 88,
   "metadata": {},
   "outputs": [],
   "source": [
    "   "
   ]
  },
  {
   "cell_type": "code",
   "execution_count": 10,
   "metadata": {},
   "outputs": [
    {
     "name": "stdout",
     "output_type": "stream",
     "text": [
      "Metadata columns : ['cell_type', 'donor_id', 'n_genes', 'louvain', 'n_counts_all', 'n_counts']\n",
      "Dimensional reduction:  ['X_diffmap', 'X_draw_graph_fr', 'X_pca', 'X_umap']\n"
     ]
    }
   ],
   "source": [
    "def infer_grn(par):\n",
    "    adata = ad.read_h5ad(f\"{par['temp_dir']}/adata.h5ad\")\n",
    "    df = pd.read_csv(f'{par['temp_dir']}/grn_celloracle_base.csv')\n",
    "    # Instantiate Oracle object\n",
    "    oracle = co.Oracle()\n",
    "    # Instantiate Oracle object.\n",
    "    oracle.import_anndata_as_raw_count(adata=adata,\n",
    "                                    cluster_column_name=\"cell_type\",\n",
    "                                    embedding_name=\"X_draw_graph_fr\")\n",
    "    # You can load TF info dataframe with the following code.\n",
    "    oracle.import_TF_data(TF_info_matrix=base_GRN)\n",
    "\n",
    "    oracle.perform_PCA()\n",
    "    plt.plot(np.cumsum(oracle.pca.explained_variance_ratio_)[:100])\n",
    "    n_comps = np.where(np.diff(np.diff(np.cumsum(oracle.pca.explained_variance_ratio_))>0.002))[0][0]\n",
    "    plt.axvline(n_comps, c=\"k\")\n",
    "    plt.show()\n",
    "    print(n_comps)\n",
    "    n_comps = min(n_comps, 50)\n",
    "\n",
    "    n_cell = oracle.adata.shape[0]\n",
    "    print(f\"cell number is :{n_cell}\")\n",
    "    k = min([int(0.025*n_cell), 50])\n",
    "    print(f\"Auto-selected k is :{k}\")\n",
    "    oracle.knn_imputation(n_pca_dims=n_comps, k=k, balanced=True, b_sight=k*8,\n",
    "                        b_maxl=k*4, n_jobs=4)\n",
    "\n",
    "    links = oracle.get_links(cluster_name_for_GRN_unit=\"cell_type\", alpha=10,\n",
    "                        verbose_level=10)\n",
    "    links.to_hdf5(file_path=f\"{par['temp_dir']}/links.celloracle.links\")"
   ]
  },
  {
   "cell_type": "markdown",
   "metadata": {},
   "source": [
    "### GRN calculation\n"
   ]
  },
  {
   "cell_type": "markdown",
   "metadata": {},
   "source": [
    "# Post evaluation"
   ]
  },
  {
   "cell_type": "markdown",
   "metadata": {},
   "source": [
    "## Peak gene connections\n"
   ]
  },
  {
   "cell_type": "markdown",
   "metadata": {},
   "source": [
    "## Refined GRN "
   ]
  },
  {
   "cell_type": "code",
   "execution_count": 4,
   "metadata": {},
   "outputs": [],
   "source": [
    "tag = '' #'_hvg'\n",
    "\n",
    "links_o = co.load_hdf5(f\"{work_dir}/infer/celloracle/grn/links{tag}.celloracle.links\") "
   ]
  },
  {
   "cell_type": "code",
   "execution_count": 7,
   "metadata": {},
   "outputs": [],
   "source": [
    "links_dict =  links_o.links_dict.copy()\n",
    "tt = 0.05\n",
    "links_dict_f = {}\n",
    "for key, df in links_dict.items():\n",
    "    mask = df.p<tt\n",
    "    df = df[mask]\n",
    "    if key=='agg_type':\n",
    "        key='T cells'\n",
    "    links_dict_f[key]=df\n",
    "for cell_type, grn in links_dict_f.items():\n",
    "    grn.to_csv(f'{work_dir}/infer/celloracle/grn/grn_{cell_type}.csv')"
   ]
  }
 ],
 "metadata": {
  "kernelspec": {
   "display_name": "celloracle",
   "language": "python",
   "name": "python3"
  },
  "language_info": {
   "codemirror_mode": {
    "name": "ipython",
    "version": 3
   },
   "file_extension": ".py",
   "mimetype": "text/x-python",
   "name": "python",
   "nbconvert_exporter": "python",
   "pygments_lexer": "ipython3",
   "version": "3.10.12"
  }
 },
 "nbformat": 4,
 "nbformat_minor": 2
}
